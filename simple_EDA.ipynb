{
 "cells": [
  {
   "cell_type": "code",
   "execution_count": 2,
   "id": "veterinary-resource",
   "metadata": {},
   "outputs": [],
   "source": [
    "import pandas as pd"
   ]
  },
  {
   "cell_type": "code",
   "execution_count": 6,
   "id": "excess-scale",
   "metadata": {},
   "outputs": [],
   "source": [
    "df = pd.read_csv('./dataset/ml-latest/ratings.csv',sep=',').drop(columns='timestamp')\n"
   ]
  },
  {
   "cell_type": "code",
   "execution_count": 7,
   "id": "proof-investing",
   "metadata": {},
   "outputs": [
    {
     "data": {
      "text/html": [
       "<div>\n",
       "<style scoped>\n",
       "    .dataframe tbody tr th:only-of-type {\n",
       "        vertical-align: middle;\n",
       "    }\n",
       "\n",
       "    .dataframe tbody tr th {\n",
       "        vertical-align: top;\n",
       "    }\n",
       "\n",
       "    .dataframe thead th {\n",
       "        text-align: right;\n",
       "    }\n",
       "</style>\n",
       "<table border=\"1\" class=\"dataframe\">\n",
       "  <thead>\n",
       "    <tr style=\"text-align: right;\">\n",
       "      <th></th>\n",
       "      <th>userId</th>\n",
       "      <th>movieId</th>\n",
       "      <th>rating</th>\n",
       "    </tr>\n",
       "  </thead>\n",
       "  <tbody>\n",
       "    <tr>\n",
       "      <th>0</th>\n",
       "      <td>1</td>\n",
       "      <td>307</td>\n",
       "      <td>3.5</td>\n",
       "    </tr>\n",
       "    <tr>\n",
       "      <th>1</th>\n",
       "      <td>1</td>\n",
       "      <td>481</td>\n",
       "      <td>3.5</td>\n",
       "    </tr>\n",
       "    <tr>\n",
       "      <th>2</th>\n",
       "      <td>1</td>\n",
       "      <td>1091</td>\n",
       "      <td>1.5</td>\n",
       "    </tr>\n",
       "    <tr>\n",
       "      <th>3</th>\n",
       "      <td>1</td>\n",
       "      <td>1257</td>\n",
       "      <td>4.5</td>\n",
       "    </tr>\n",
       "    <tr>\n",
       "      <th>4</th>\n",
       "      <td>1</td>\n",
       "      <td>1449</td>\n",
       "      <td>4.5</td>\n",
       "    </tr>\n",
       "    <tr>\n",
       "      <th>...</th>\n",
       "      <td>...</td>\n",
       "      <td>...</td>\n",
       "      <td>...</td>\n",
       "    </tr>\n",
       "    <tr>\n",
       "      <th>27753439</th>\n",
       "      <td>283228</td>\n",
       "      <td>8542</td>\n",
       "      <td>4.5</td>\n",
       "    </tr>\n",
       "    <tr>\n",
       "      <th>27753440</th>\n",
       "      <td>283228</td>\n",
       "      <td>8712</td>\n",
       "      <td>4.5</td>\n",
       "    </tr>\n",
       "    <tr>\n",
       "      <th>27753441</th>\n",
       "      <td>283228</td>\n",
       "      <td>34405</td>\n",
       "      <td>4.5</td>\n",
       "    </tr>\n",
       "    <tr>\n",
       "      <th>27753442</th>\n",
       "      <td>283228</td>\n",
       "      <td>44761</td>\n",
       "      <td>4.5</td>\n",
       "    </tr>\n",
       "    <tr>\n",
       "      <th>27753443</th>\n",
       "      <td>283228</td>\n",
       "      <td>54286</td>\n",
       "      <td>4.5</td>\n",
       "    </tr>\n",
       "  </tbody>\n",
       "</table>\n",
       "<p>27753444 rows × 3 columns</p>\n",
       "</div>"
      ],
      "text/plain": [
       "          userId  movieId  rating\n",
       "0              1      307     3.5\n",
       "1              1      481     3.5\n",
       "2              1     1091     1.5\n",
       "3              1     1257     4.5\n",
       "4              1     1449     4.5\n",
       "...          ...      ...     ...\n",
       "27753439  283228     8542     4.5\n",
       "27753440  283228     8712     4.5\n",
       "27753441  283228    34405     4.5\n",
       "27753442  283228    44761     4.5\n",
       "27753443  283228    54286     4.5\n",
       "\n",
       "[27753444 rows x 3 columns]"
      ]
     },
     "execution_count": 7,
     "metadata": {},
     "output_type": "execute_result"
    }
   ],
   "source": [
    "df"
   ]
  },
  {
   "cell_type": "code",
   "execution_count": 12,
   "id": "handled-abortion",
   "metadata": {},
   "outputs": [
    {
     "data": {
      "text/plain": [
       "0                1\n",
       "1                1\n",
       "2                1\n",
       "3                1\n",
       "4                1\n",
       "             ...  \n",
       "27753439    283228\n",
       "27753440    283228\n",
       "27753441    283228\n",
       "27753442    283228\n",
       "27753443    283228\n",
       "Name: userId, Length: 27753444, dtype: int64"
      ]
     },
     "execution_count": 12,
     "metadata": {},
     "output_type": "execute_result"
    }
   ],
   "source": [
    "df[\"userId\"]"
   ]
  },
  {
   "cell_type": "code",
   "execution_count": null,
   "id": "ceramic-major",
   "metadata": {},
   "outputs": [],
   "source": []
  },
  {
   "cell_type": "code",
   "execution_count": 52,
   "id": "passing-panel",
   "metadata": {},
   "outputs": [],
   "source": [
    "rating_user_sum={}\n",
    "rating_movie_sum={}\n",
    "overall_sum=0\n",
    "for idx,row in df.iterrows():\n",
    "    try:\n",
    "        rating_user = rating_user_sum[row['userId']]+row['rating']\n",
    "    except KeyError:\n",
    "        rating_user = row['rating']\n",
    "    rating_user_sum[row['userId']]=rating_user\n",
    "    \n",
    "    try:\n",
    "        rating_movie = rating_movie_sum[row['movieId']]+row['rating']\n",
    "    except KeyError:\n",
    "        rating_movie = row['movieId']\n",
    "    rating_movie_sum[row['movieId']]=rating_movie\n",
    "    overall_sum+=row['rating']"
   ]
  },
  {
   "cell_type": "code",
   "execution_count": 63,
   "id": "native-revelation",
   "metadata": {},
   "outputs": [
    {
     "data": {
      "text/plain": [
       "3.501556983616962"
      ]
     },
     "execution_count": 63,
     "metadata": {},
     "output_type": "execute_result"
    }
   ],
   "source": [
    "bias_user = {}\n",
    "bias_movie = {}\n",
    "for key,value in uId_dict.items():\n",
    "    bias_user[key]=rating_user_sum[key]/value\n",
    "    \n",
    "for key,value in mId_dict.items():\n",
    "    bias_movie[key]=rating_movie_sum[key]/value\n",
    "    \n",
    "avg_rating = overall_sum/len(df)\n",
    "avg_rating"
   ]
  },
  {
   "cell_type": "code",
   "execution_count": 1,
   "id": "interpreted-essence",
   "metadata": {},
   "outputs": [],
   "source": [
    "def test():\n",
    "    bias_user = {}\n",
    "    bias_movie = {}\n",
    "    for key,value in uId_dict.items():\n",
    "        bias_user[key]=rating_user_sum[key]/value\n",
    "\n",
    "    for key,value in mId_dict.items():\n",
    "        bias_movie[key]=rating_movie_sum[key]/value\n",
    "\n",
    "    return bias_user,bias_movie"
   ]
  },
  {
   "cell_type": "code",
   "execution_count": null,
   "id": "orange-panama",
   "metadata": {},
   "outputs": [],
   "source": []
  }
 ],
 "metadata": {
  "kernelspec": {
   "display_name": "Python 3",
   "language": "python",
   "name": "python3"
  },
  "language_info": {
   "codemirror_mode": {
    "name": "ipython",
    "version": 3
   },
   "file_extension": ".py",
   "mimetype": "text/x-python",
   "name": "python",
   "nbconvert_exporter": "python",
   "pygments_lexer": "ipython3",
   "version": "3.8.7"
  }
 },
 "nbformat": 4,
 "nbformat_minor": 5
}
